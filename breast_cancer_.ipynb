{
 "cells": [
  {
   "cell_type": "code",
   "execution_count": null,
   "id": "9f568441",
   "metadata": {},
   "outputs": [],
   "source": [
    "import numpy as np\n",
    "import pandas as pd\n",
    "import matplotlib.pyplot as plt\n",
    "import seaborn as sns\n",
    "from pathlib import Path\n",
    "import plotly.express as px\n",
    "import pprint\n",
    "\n",
    "\n",
    "\n"
   ]
  },
  {
   "cell_type": "code",
   "execution_count": null,
   "id": "b8970375",
   "metadata": {},
   "outputs": [],
   "source": [
    "\n",
    "import warnings\n",
    "warnings.filterwarnings('ignore')\n",
    "\n",
    "# Load dataset\n",
    "df = pd.read_csv(r'E:\\247\\ML\\VS_Code_ML\\breast_cancer_data.csv')\n",
    "\n",
    "print(df.head())\n"
   ]
  },
  {
   "cell_type": "code",
   "execution_count": null,
   "id": "b139b9f0",
   "metadata": {},
   "outputs": [],
   "source": [
    "print(\"Shape:\", df.shape)\n",
    "print(\"Head:\")\n",
    "print(df.head())\n",
    "print(\"Tail:\")\n",
    "print(df.tail())\n",
    "df.info()\n",
    "\n",
    "print(df.columns)"
   ]
  },
  {
   "cell_type": "code",
   "execution_count": null,
   "id": "af037b55",
   "metadata": {},
   "outputs": [],
   "source": [
    "\n",
    "print(df.dtypes)\n",
    "print('--'*50)\n",
    "\n",
    "print(df.describe())\n",
    "print('--'*50)\n",
    "\n",
    "print(df.describe().T)\n",
    "print('--'*50)\n"
   ]
  },
  {
   "cell_type": "code",
   "execution_count": null,
   "id": "67d4bd42",
   "metadata": {},
   "outputs": [],
   "source": [
    "\n",
    "# Check for missing values\n",
    "print(\"cheking missing values \",df.isnull().sum())\n",
    "print('--'*50)\n",
    "missing_values =df.isnull().sum()/len(df)*(100)\n",
    "print(missing_values[missing_values > 0])"
   ]
  },
  {
   "cell_type": "code",
   "execution_count": null,
   "id": "192f9329",
   "metadata": {},
   "outputs": [],
   "source": [
    "print(\"Dropping the redundant\\n \")\n",
    "\n",
    "df.drop(columns = ['id','Unnamed: 32'] , axis = 1, inplace=True)\n",
    "\n",
    "df.shape"
   ]
  },
  {
   "cell_type": "code",
   "execution_count": null,
   "id": "ae3f0736",
   "metadata": {},
   "outputs": [],
   "source": [
    "# Output label / Target variable / Y-label : data distribution \n",
    "\n",
    "# pie-plot : proportion of M v/s B\n",
    "\n",
    "px.pie(df, \n",
    "\n",
    "       'diagnosis',\n",
    "\n",
    "       color = 'diagnosis',\n",
    "\n",
    "       color_discrete_sequence = ['#007500','#5CFF5C'],\n",
    "\n",
    "       title = \"Data Distribution\")"
   ]
  },
  {
   "cell_type": "code",
   "execution_count": null,
   "id": "edd4c125",
   "metadata": {},
   "outputs": [],
   "source": [
    "# Inferences :\n",
    "\n",
    "# dataset is imbalanced (M : B = 63:37)\n",
    "\n",
    "# there are more cases of benign tumors than malignant tumors\n",
    "\n",
    "# for imbalanced datasets, accuracy can be a misleading metric\n",
    "\n",
    "# for example, if 90% of the cases are benign, the model will always predict \"benign\" \n",
    "\n",
    "# in such cases, we need \"Balanced accuracy\""
   ]
  },
  {
   "cell_type": "code",
   "execution_count": null,
   "id": "c74f860a",
   "metadata": {},
   "outputs": [],
   "source": [
    "# visually compare the distribution of each feature\n",
    "\n",
    "# for malignant tumours versus bening . \n",
    "\n",
    "# for a given feature, do its values tend to be different for malignant vs benign cases\n",
    "\n",
    "for column in df.drop(\"diagnosis\",axis=1).columns[:5]:\n",
    "\n",
    "    # for loop auto iterates through the first five feature columns in the dataframe\n",
    "\n",
    "    fig = px.box(data_frame =df ,\n",
    "\n",
    "                 x='diagnosis',\n",
    "\n",
    "                 color = 'diagnosis',\n",
    "\n",
    "                 y = column,\n",
    "\n",
    "                 color_discrete_sequence = ['#007500','#5CFF5C'],\n",
    "\n",
    "                 orientation = 'v')\n",
    "\n",
    "    \n",
    "\n",
    "    fig.show()"
   ]
  },
  {
   "cell_type": "code",
   "execution_count": null,
   "id": "6b677677",
   "metadata": {},
   "outputs": [],
   "source": [
    "# diagnosis : M or B :categorical\n",
    "\n",
    "# encode : 1 or 0 :categorical\n",
    "\n",
    "df['diagnosis'] = (df['diagnosis'] == 'M').astype(int)\n",
    "\n",
    "# this line converts the categorical feature into numerical\n",
    "\n",
    " \n",
    "\n",
    " # setting M = 1  then B = 0\n",
    "\n",
    " \n",
    "\n",
    "# take the correlation\n",
    "\n",
    "corr = df.corr()\n",
    "\n",
    "plt.figure(figsize = (20,20))\n",
    "\n",
    "# heatmap \n",
    "\n",
    "sns.heatmap(corr , cmap='viridis_r' , annot=True)\n",
    "\n",
    "plt.show()\n",
    "\n",
    "# correlation : -1 to 1"
   ]
  },
  {
   "cell_type": "code",
   "execution_count": null,
   "id": "52847ebe",
   "metadata": {},
   "outputs": [],
   "source": [
    "df.corr()"
   ]
  },
  {
   "cell_type": "code",
   "execution_count": null,
   "id": "e4364cc9",
   "metadata": {},
   "outputs": [],
   "source": [
    "\n",
    "# We should now choose which features are good enough predictors to be used to train the model \n",
    "\n",
    "# get the absoulte correlation \n",
    "\n",
    "cor_target = abs(corr['diagnosis'])\n",
    "\n",
    "# select better correlated features\n",
    "\n",
    "# this is the filtering step\n",
    "\n",
    "# it creates a new list of relevant features\n",
    "\n",
    "relevant_features = cor_target[cor_target>0.25]\n",
    "\n",
    "# 0.25 is user defined. It is the hyper-parameter value\n",
    "\n",
    "# collect the names of features\n",
    "\n",
    "# list comprehension\n",
    "\n",
    "names = [index for index,value in relevant_features.items()]\n",
    "\n",
    " \n",
    "\n",
    "# Dtop the target vairable from the results\n",
    "\n",
    "names.remove(\"diagnosis\")\n",
    "\n",
    "pprint.pprint(names)"
   ]
  },
  {
   "cell_type": "code",
   "execution_count": null,
   "metadata": {},
   "outputs": [],
   "source": []
  },
  {
   "cell_type": "code",
   "execution_count": null,
   "id": "67d1662e",
   "metadata": {},
   "outputs": [],
   "source": []
  },
  {
   "cell_type": "code",
   "execution_count": null,
   "metadata": {},
   "outputs": [],
   "source": []
  },
  {
   "cell_type": "code",
   "execution_count": null,
   "id": "ca7e6153",
   "metadata": {},
   "outputs": [],
   "source": []
  },
  {
   "cell_type": "code",
   "execution_count": null,
   "id": "34472655",
   "metadata": {},
   "outputs": [],
   "source": []
  },
  {
   "cell_type": "code",
   "execution_count": null,
   "id": "35a6f006",
   "metadata": {},
   "outputs": [],
   "source": []
  },
  {
   "cell_type": "code",
   "execution_count": null,
   "id": "b55c807a",
   "metadata": {},
   "outputs": [],
   "source": []
  },
  {
   "cell_type": "code",
   "execution_count": null,
   "id": "a19732fb",
   "metadata": {},
   "outputs": [],
   "source": []
  },
  {
   "cell_type": "code",
   "execution_count": null,
   "id": "90b3f341",
   "metadata": {},
   "outputs": [],
   "source": []
  },
  {
   "cell_type": "code",
   "execution_count": null,
   "id": "7d1bc3f0",
   "metadata": {},
   "outputs": [],
   "source": []
  }
 ],
 "metadata": {
  "kernelspec": {
   "display_name": "Python 3",
   "language": "python",
   "name": "python3"
  },
  "language_info": {
   "codemirror_mode": {
    "name": "ipython",
    "version": 3
   },
   "file_extension": ".py",
   "mimetype": "text/x-python",
   "name": "python",
   "nbconvert_exporter": "python",
   "pygments_lexer": "ipython3",
   "version": "3.12.10"
  }
 },
 "nbformat": 4,
 "nbformat_minor": 5
}
